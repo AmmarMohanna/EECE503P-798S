{
  "cells": [
    {
      "cell_type": "markdown",
      "source": [
        "# Lab 3: LLM-Based Agents with tools"
      ],
      "metadata": {
        "id": "TmeuAxI52GUn"
      }
    },
    {
      "cell_type": "markdown",
      "source": [
        "## Introduction"
      ],
      "metadata": {
        "id": "cbUR-ZBJ1G7s"
      }
    },
    {
      "cell_type": "markdown",
      "source": [
        "In this lab, you'll build a chatbot that represents you professionally — capable of answering questions based on your LinkedIn and bio, and that notifies you via mobile push messages using Pushover.\n",
        "\n",
        "You'll learn to:\n",
        "\n",
        "- Use Pushover for notifications\n",
        "- Set up OpenAI's tool-calling API\n",
        "- Load your own data (e.g., résumé) to simulate a personalized assistant\n",
        "- Deploy the chatbot with Gradio\n",
        "- Handle unknown questions or user interest via tools"
      ],
      "metadata": {
        "id": "sziZuakS1Civ"
      }
    },
    {
      "cell_type": "markdown",
      "source": [
        "### 1. Setup and Imports"
      ],
      "metadata": {
        "id": "8q7zq04R1MJI"
      }
    },
    {
      "cell_type": "code",
      "source": [
        "!pip install pypdf gradio"
      ],
      "metadata": {
        "colab": {
          "base_uri": "https://localhost:8080/"
        },
        "collapsed": true,
        "id": "ZLwcv0oHvfsx",
        "outputId": "f6325168-e646-4dfd-8e9d-79e7010aba32"
      },
      "execution_count": null,
      "outputs": [
        {
          "output_type": "stream",
          "name": "stdout",
          "text": [
            "Requirement already satisfied: pypdf in /usr/local/lib/python3.11/dist-packages (5.7.0)\n",
            "Requirement already satisfied: gradio in /usr/local/lib/python3.11/dist-packages (5.31.0)\n",
            "Requirement already satisfied: aiofiles<25.0,>=22.0 in /usr/local/lib/python3.11/dist-packages (from gradio) (24.1.0)\n",
            "Requirement already satisfied: anyio<5.0,>=3.0 in /usr/local/lib/python3.11/dist-packages (from gradio) (4.9.0)\n",
            "Requirement already satisfied: fastapi<1.0,>=0.115.2 in /usr/local/lib/python3.11/dist-packages (from gradio) (0.116.0)\n",
            "Requirement already satisfied: ffmpy in /usr/local/lib/python3.11/dist-packages (from gradio) (0.6.0)\n",
            "Requirement already satisfied: gradio-client==1.10.1 in /usr/local/lib/python3.11/dist-packages (from gradio) (1.10.1)\n",
            "Requirement already satisfied: groovy~=0.1 in /usr/local/lib/python3.11/dist-packages (from gradio) (0.1.2)\n",
            "Requirement already satisfied: httpx>=0.24.1 in /usr/local/lib/python3.11/dist-packages (from gradio) (0.28.1)\n",
            "Requirement already satisfied: huggingface-hub>=0.28.1 in /usr/local/lib/python3.11/dist-packages (from gradio) (0.33.2)\n",
            "Requirement already satisfied: jinja2<4.0 in /usr/local/lib/python3.11/dist-packages (from gradio) (3.1.6)\n",
            "Requirement already satisfied: markupsafe<4.0,>=2.0 in /usr/local/lib/python3.11/dist-packages (from gradio) (3.0.2)\n",
            "Requirement already satisfied: numpy<3.0,>=1.0 in /usr/local/lib/python3.11/dist-packages (from gradio) (2.0.2)\n",
            "Requirement already satisfied: orjson~=3.0 in /usr/local/lib/python3.11/dist-packages (from gradio) (3.10.18)\n",
            "Requirement already satisfied: packaging in /usr/local/lib/python3.11/dist-packages (from gradio) (24.2)\n",
            "Requirement already satisfied: pandas<3.0,>=1.0 in /usr/local/lib/python3.11/dist-packages (from gradio) (2.2.2)\n",
            "Requirement already satisfied: pillow<12.0,>=8.0 in /usr/local/lib/python3.11/dist-packages (from gradio) (11.2.1)\n",
            "Requirement already satisfied: pydantic<2.12,>=2.0 in /usr/local/lib/python3.11/dist-packages (from gradio) (2.11.7)\n",
            "Requirement already satisfied: pydub in /usr/local/lib/python3.11/dist-packages (from gradio) (0.25.1)\n",
            "Requirement already satisfied: python-multipart>=0.0.18 in /usr/local/lib/python3.11/dist-packages (from gradio) (0.0.20)\n",
            "Requirement already satisfied: pyyaml<7.0,>=5.0 in /usr/local/lib/python3.11/dist-packages (from gradio) (6.0.2)\n",
            "Requirement already satisfied: ruff>=0.9.3 in /usr/local/lib/python3.11/dist-packages (from gradio) (0.12.2)\n",
            "Requirement already satisfied: safehttpx<0.2.0,>=0.1.6 in /usr/local/lib/python3.11/dist-packages (from gradio) (0.1.6)\n",
            "Requirement already satisfied: semantic-version~=2.0 in /usr/local/lib/python3.11/dist-packages (from gradio) (2.10.0)\n",
            "Requirement already satisfied: starlette<1.0,>=0.40.0 in /usr/local/lib/python3.11/dist-packages (from gradio) (0.46.2)\n",
            "Requirement already satisfied: tomlkit<0.14.0,>=0.12.0 in /usr/local/lib/python3.11/dist-packages (from gradio) (0.13.3)\n",
            "Requirement already satisfied: typer<1.0,>=0.12 in /usr/local/lib/python3.11/dist-packages (from gradio) (0.16.0)\n",
            "Requirement already satisfied: typing-extensions~=4.0 in /usr/local/lib/python3.11/dist-packages (from gradio) (4.14.1)\n",
            "Requirement already satisfied: uvicorn>=0.14.0 in /usr/local/lib/python3.11/dist-packages (from gradio) (0.35.0)\n",
            "Requirement already satisfied: fsspec in /usr/local/lib/python3.11/dist-packages (from gradio-client==1.10.1->gradio) (2025.3.2)\n",
            "Requirement already satisfied: websockets<16.0,>=10.0 in /usr/local/lib/python3.11/dist-packages (from gradio-client==1.10.1->gradio) (15.0.1)\n",
            "Requirement already satisfied: idna>=2.8 in /usr/local/lib/python3.11/dist-packages (from anyio<5.0,>=3.0->gradio) (3.10)\n",
            "Requirement already satisfied: sniffio>=1.1 in /usr/local/lib/python3.11/dist-packages (from anyio<5.0,>=3.0->gradio) (1.3.1)\n",
            "Requirement already satisfied: certifi in /usr/local/lib/python3.11/dist-packages (from httpx>=0.24.1->gradio) (2025.7.9)\n",
            "Requirement already satisfied: httpcore==1.* in /usr/local/lib/python3.11/dist-packages (from httpx>=0.24.1->gradio) (1.0.9)\n",
            "Requirement already satisfied: h11>=0.16 in /usr/local/lib/python3.11/dist-packages (from httpcore==1.*->httpx>=0.24.1->gradio) (0.16.0)\n",
            "Requirement already satisfied: filelock in /usr/local/lib/python3.11/dist-packages (from huggingface-hub>=0.28.1->gradio) (3.18.0)\n",
            "Requirement already satisfied: requests in /usr/local/lib/python3.11/dist-packages (from huggingface-hub>=0.28.1->gradio) (2.32.3)\n",
            "Requirement already satisfied: tqdm>=4.42.1 in /usr/local/lib/python3.11/dist-packages (from huggingface-hub>=0.28.1->gradio) (4.67.1)\n",
            "Requirement already satisfied: hf-xet<2.0.0,>=1.1.2 in /usr/local/lib/python3.11/dist-packages (from huggingface-hub>=0.28.1->gradio) (1.1.5)\n",
            "Requirement already satisfied: python-dateutil>=2.8.2 in /usr/local/lib/python3.11/dist-packages (from pandas<3.0,>=1.0->gradio) (2.9.0.post0)\n",
            "Requirement already satisfied: pytz>=2020.1 in /usr/local/lib/python3.11/dist-packages (from pandas<3.0,>=1.0->gradio) (2025.2)\n",
            "Requirement already satisfied: tzdata>=2022.7 in /usr/local/lib/python3.11/dist-packages (from pandas<3.0,>=1.0->gradio) (2025.2)\n",
            "Requirement already satisfied: annotated-types>=0.6.0 in /usr/local/lib/python3.11/dist-packages (from pydantic<2.12,>=2.0->gradio) (0.7.0)\n",
            "Requirement already satisfied: pydantic-core==2.33.2 in /usr/local/lib/python3.11/dist-packages (from pydantic<2.12,>=2.0->gradio) (2.33.2)\n",
            "Requirement already satisfied: typing-inspection>=0.4.0 in /usr/local/lib/python3.11/dist-packages (from pydantic<2.12,>=2.0->gradio) (0.4.1)\n",
            "Requirement already satisfied: click>=8.0.0 in /usr/local/lib/python3.11/dist-packages (from typer<1.0,>=0.12->gradio) (8.2.1)\n",
            "Requirement already satisfied: shellingham>=1.3.0 in /usr/local/lib/python3.11/dist-packages (from typer<1.0,>=0.12->gradio) (1.5.4)\n",
            "Requirement already satisfied: rich>=10.11.0 in /usr/local/lib/python3.11/dist-packages (from typer<1.0,>=0.12->gradio) (13.9.4)\n",
            "Requirement already satisfied: six>=1.5 in /usr/local/lib/python3.11/dist-packages (from python-dateutil>=2.8.2->pandas<3.0,>=1.0->gradio) (1.17.0)\n",
            "Requirement already satisfied: markdown-it-py>=2.2.0 in /usr/local/lib/python3.11/dist-packages (from rich>=10.11.0->typer<1.0,>=0.12->gradio) (3.0.0)\n",
            "Requirement already satisfied: pygments<3.0.0,>=2.13.0 in /usr/local/lib/python3.11/dist-packages (from rich>=10.11.0->typer<1.0,>=0.12->gradio) (2.19.2)\n",
            "Requirement already satisfied: charset-normalizer<4,>=2 in /usr/local/lib/python3.11/dist-packages (from requests->huggingface-hub>=0.28.1->gradio) (3.4.2)\n",
            "Requirement already satisfied: urllib3<3,>=1.21.1 in /usr/local/lib/python3.11/dist-packages (from requests->huggingface-hub>=0.28.1->gradio) (2.4.0)\n",
            "Requirement already satisfied: mdurl~=0.1 in /usr/local/lib/python3.11/dist-packages (from markdown-it-py>=2.2.0->rich>=10.11.0->typer<1.0,>=0.12->gradio) (0.1.2)\n"
          ]
        }
      ]
    },
    {
      "cell_type": "code",
      "execution_count": null,
      "metadata": {
        "id": "PFfE2Dcws5WO"
      },
      "outputs": [],
      "source": [
        "# imports\n",
        "\n",
        "from openai import OpenAI\n",
        "import json\n",
        "import os\n",
        "import requests\n",
        "from pypdf import PdfReader\n",
        "import gradio as gr"
      ]
    },
    {
      "cell_type": "markdown",
      "source": [
        "1. **Visit Gemini Developer Page:**\n",
        "\n",
        "  Go to: https://ai.google.dev/\n",
        "\n",
        "  Click “Get started” and log in using your Google account.\n",
        "\n",
        "2. **Generate Your API Key:**\n",
        "\n",
        "  Visit: https://aistudio.google.com/app/apikey\n",
        "\n",
        "  Click “Create API Key”.\n",
        "\n",
        "  Copy the generated key."
      ],
      "metadata": {
        "id": "Ai52v9gK6pNt"
      }
    },
    {
      "cell_type": "code",
      "execution_count": null,
      "metadata": {
        "id": "oiokehV4s5WP"
      },
      "outputs": [],
      "source": [
        "# The usual start\n",
        "\n",
        "google_api_key = '' #add api key\n",
        "gemini = OpenAI(api_key=google_api_key, base_url=\"https://generativelanguage.googleapis.com/v1beta/openai/\")\n",
        "model_name = \"gemini-2.0-flash\"\n"
      ]
    },
    {
      "cell_type": "markdown",
      "source": [
        "### 2. Setup Pushover Notifications"
      ],
      "metadata": {
        "id": "e7M6WOKt1XAW"
      }
    },
    {
      "cell_type": "markdown",
      "source": [
        "Pushover is a service to push messages to your phone or desktop.\n",
        "\n",
        "It's super easy to set up and install!\n",
        "\n",
        "Simply visit https://pushover.net/ and click 'Login or Signup' on the top right to sign up for a free account, and create your API keys.\n",
        "\n",
        "Once you've signed up, on the home screen, click \"Create an Application/API Token\", and give it any name (like Agents) and click Create Application.\n",
        "\n",
        "Then add 2 keys:\n",
        "\n",
        "PUSHOVER_USER=_put the key that's on the top right of your Pushover home screen and probably starts with a u_  \n",
        "PUSHOVER_TOKEN=_put the key when you click into your new application called Agents (or whatever) and probably starts with an a_\n",
        "\n",
        "Finally, click \"Add Phone, Tablet or Desktop\" to install on your phone."
      ],
      "metadata": {
        "id": "N0bYGOyx1eor"
      }
    },
    {
      "cell_type": "code",
      "execution_count": null,
      "metadata": {
        "id": "c4YVIpEQs5WP"
      },
      "outputs": [],
      "source": [
        "# For pushover\n",
        "\n",
        "pushover_user = '' # add key here\n",
        "pushover_token = '' # add key here\n",
        "pushover_url = \"https://api.pushover.net/1/messages.json\""
      ]
    },
    {
      "cell_type": "code",
      "execution_count": null,
      "metadata": {
        "id": "erMO2p3Ys5WP"
      },
      "outputs": [],
      "source": [
        "def push(message):\n",
        "    print(f\"Push: {message}\")\n",
        "    payload = {\"user\": pushover_user, \"token\": pushover_token, \"message\": message}\n",
        "    requests.post(pushover_url, data=payload)"
      ]
    },
    {
      "cell_type": "code",
      "execution_count": null,
      "metadata": {
        "colab": {
          "base_uri": "https://localhost:8080/"
        },
        "id": "yMTrdAKLs5WP",
        "outputId": "86697fea-0e45-43b4-b44d-94a811494241"
      },
      "outputs": [
        {
          "output_type": "stream",
          "name": "stdout",
          "text": [
            "Push: HEY!!\n"
          ]
        }
      ],
      "source": [
        "push(\"HEY!!\")"
      ]
    },
    {
      "cell_type": "markdown",
      "source": [
        "### 3. Tool Definitions"
      ],
      "metadata": {
        "id": "f2B6cRoB1xYm"
      }
    },
    {
      "cell_type": "markdown",
      "source": [
        "We define tool functions the LLM can use via tool calling.\n",
        "\n"
      ],
      "metadata": {
        "id": "O8FyDXhc12Hv"
      }
    },
    {
      "cell_type": "code",
      "execution_count": null,
      "metadata": {
        "id": "oucscEJns5WQ"
      },
      "outputs": [],
      "source": [
        "def record_user_details(email, name=\"Name not provided\", notes=\"not provided\"):\n",
        "    push(f\"Recording interest from {name} with email {email} and notes {notes}\")\n",
        "    return {\"recorded\": \"ok\"}"
      ]
    },
    {
      "cell_type": "code",
      "execution_count": null,
      "metadata": {
        "id": "1nLZo--Rs5WQ"
      },
      "outputs": [],
      "source": [
        "def record_unknown_question(question):\n",
        "    push(f\"Recording {question} asked that I couldn't answer\")\n",
        "    return {\"recorded\": \"ok\"}"
      ]
    },
    {
      "cell_type": "markdown",
      "source": [
        "JSON Schemas for the Tools"
      ],
      "metadata": {
        "id": "fAFrksGZ16J0"
      }
    },
    {
      "cell_type": "code",
      "execution_count": null,
      "metadata": {
        "id": "hS0lKf0rs5WQ"
      },
      "outputs": [],
      "source": [
        "record_user_details_json = {\n",
        "    \"name\": \"record_user_details\",\n",
        "    \"description\": \"Use this tool to record that a user is interested in being in touch and provided an email address\",\n",
        "    \"parameters\": {\n",
        "        \"type\": \"object\",\n",
        "        \"properties\": {\n",
        "            \"email\": {\n",
        "                \"type\": \"string\",\n",
        "                \"description\": \"The email address of this user\"\n",
        "            },\n",
        "            \"name\": {\n",
        "                \"type\": \"string\",\n",
        "                \"description\": \"The user's name, if they provided it\"\n",
        "            }\n",
        "            ,\n",
        "            \"notes\": {\n",
        "                \"type\": \"string\",\n",
        "                \"description\": \"Any additional information about the conversation that's worth recording to give context\"\n",
        "            }\n",
        "        },\n",
        "        \"required\": [\"email\"],\n",
        "        \"additionalProperties\": False\n",
        "    }\n",
        "}"
      ]
    },
    {
      "cell_type": "code",
      "execution_count": null,
      "metadata": {
        "id": "iXx-x0M0s5WQ"
      },
      "outputs": [],
      "source": [
        "record_unknown_question_json = {\n",
        "    \"name\": \"record_unknown_question\",\n",
        "    \"description\": \"Always use this tool to record any question that couldn't be answered as you didn't know the answer\",\n",
        "    \"parameters\": {\n",
        "        \"type\": \"object\",\n",
        "        \"properties\": {\n",
        "            \"question\": {\n",
        "                \"type\": \"string\",\n",
        "                \"description\": \"The question that couldn't be answered\"\n",
        "            },\n",
        "        },\n",
        "        \"required\": [\"question\"],\n",
        "        \"additionalProperties\": False\n",
        "    }\n",
        "}"
      ]
    },
    {
      "cell_type": "code",
      "execution_count": null,
      "metadata": {
        "id": "eZt3L72Ls5WR"
      },
      "outputs": [],
      "source": [
        "tools = [{\"type\": \"function\", \"function\": record_user_details_json},\n",
        "        {\"type\": \"function\", \"function\": record_unknown_question_json}]"
      ]
    },
    {
      "cell_type": "code",
      "execution_count": null,
      "metadata": {
        "colab": {
          "base_uri": "https://localhost:8080/"
        },
        "id": "fmPekphxs5WR",
        "outputId": "fe35bb0c-d0d0-4dd3-9df1-856fbb8e6cd6"
      },
      "outputs": [
        {
          "output_type": "execute_result",
          "data": {
            "text/plain": [
              "[{'type': 'function',\n",
              "  'function': {'name': 'record_user_details',\n",
              "   'description': 'Use this tool to record that a user is interested in being in touch and provided an email address',\n",
              "   'parameters': {'type': 'object',\n",
              "    'properties': {'email': {'type': 'string',\n",
              "      'description': 'The email address of this user'},\n",
              "     'name': {'type': 'string',\n",
              "      'description': \"The user's name, if they provided it\"},\n",
              "     'notes': {'type': 'string',\n",
              "      'description': \"Any additional information about the conversation that's worth recording to give context\"}},\n",
              "    'required': ['email'],\n",
              "    'additionalProperties': False}}},\n",
              " {'type': 'function',\n",
              "  'function': {'name': 'record_unknown_question',\n",
              "   'description': \"Always use this tool to record any question that couldn't be answered as you didn't know the answer\",\n",
              "   'parameters': {'type': 'object',\n",
              "    'properties': {'question': {'type': 'string',\n",
              "      'description': \"The question that couldn't be answered\"}},\n",
              "    'required': ['question'],\n",
              "    'additionalProperties': False}}}]"
            ]
          },
          "metadata": {},
          "execution_count": 17
        }
      ],
      "source": [
        "tools"
      ]
    },
    {
      "cell_type": "markdown",
      "source": [
        "### 4. Handling Tool Calls (LLM responses)"
      ],
      "metadata": {
        "id": "ZXfh_Pg-2Aqg"
      }
    },
    {
      "cell_type": "code",
      "execution_count": null,
      "metadata": {
        "id": "RR_SdHj3s5WR"
      },
      "outputs": [],
      "source": [
        "# This function can take a list of tool calls, and run them. This is the IF statement!!\n",
        "\n",
        "def handle_tool_calls(tool_calls):\n",
        "    results = []\n",
        "    for tool_call in tool_calls:\n",
        "        tool_name = tool_call.function.name\n",
        "        arguments = json.loads(tool_call.function.arguments)\n",
        "        print(f\"Tool called: {tool_name}\", flush=True)\n",
        "\n",
        "        # THE BIG IF STATEMENT!!!\n",
        "\n",
        "        if tool_name == \"record_user_details\":\n",
        "            result = record_user_details(**arguments)\n",
        "        elif tool_name == \"record_unknown_question\":\n",
        "            result = record_unknown_question(**arguments)\n",
        "\n",
        "        results.append({\"role\": \"tool\",\"content\": json.dumps(result),\"tool_call_id\": tool_call.id})\n",
        "    return results"
      ]
    },
    {
      "cell_type": "code",
      "execution_count": null,
      "metadata": {
        "colab": {
          "base_uri": "https://localhost:8080/"
        },
        "id": "jXvme_vws5WR",
        "outputId": "4a349cf3-35d5-4b5f-8c65-2b90d0905e3a"
      },
      "outputs": [
        {
          "output_type": "stream",
          "name": "stdout",
          "text": [
            "Push: Recording this is a really hard question asked that I couldn't answer\n"
          ]
        },
        {
          "output_type": "execute_result",
          "data": {
            "text/plain": [
              "{'recorded': 'ok'}"
            ]
          },
          "metadata": {},
          "execution_count": 20
        }
      ],
      "source": [
        "globals()[\"record_unknown_question\"](\"this is a really hard question\")"
      ]
    },
    {
      "cell_type": "code",
      "execution_count": null,
      "metadata": {
        "id": "Cw1nk9_bs5WR"
      },
      "outputs": [],
      "source": [
        "# This is a more elegant way that avoids the IF statement.\n",
        "\n",
        "def handle_tool_calls(tool_calls):\n",
        "    results = []\n",
        "    for tool_call in tool_calls:\n",
        "        tool_name = tool_call.function.name\n",
        "        arguments = json.loads(tool_call.function.arguments)\n",
        "        print(f\"Tool called: {tool_name}\", flush=True)\n",
        "        tool = globals().get(tool_name)\n",
        "        result = tool(**arguments) if tool else {}\n",
        "        results.append({\"role\": \"tool\",\"content\": json.dumps(result),\"tool_call_id\": tool_call.id})\n",
        "    return results"
      ]
    },
    {
      "cell_type": "markdown",
      "source": [
        "### 5. Load LinkedIn and Summary"
      ],
      "metadata": {
        "id": "UeghZvel2Lpa"
      }
    },
    {
      "cell_type": "markdown",
      "source": [
        "Your chatbot needs to know about you in order to behave like your professional digital twin. In this step, you will provide it with two key documents:\n",
        "\n",
        "**1. LinkedIn Profile (PDF)** :\n",
        "\n",
        "How to export your LinkedIn profile:\n",
        "1. Go to linkedin.com.\n",
        "2. Click “Me” (top right) → View Profile.\n",
        "3. Click the “Resources” button near your profile picture.\n",
        "4. Select “Save to PDF”.\n",
        "\n",
        "A PDF will download — rename it as linkedin.pdf and set the path.\n",
        "If you dont have linkedin you can just create one about yourself.\n",
        "\n",
        "**2. Professional Summary (Text File)** :\n",
        "\n",
        "Write a short summary of your:\n",
        "- Career goals\n",
        "- Skills and interests\n",
        "- Education\n",
        "- What makes you unique\n"
      ],
      "metadata": {
        "id": "LS6HT_s42f_B"
      }
    },
    {
      "cell_type": "code",
      "execution_count": null,
      "metadata": {
        "id": "vohBkNLis5WR"
      },
      "outputs": [],
      "source": [
        "reader = PdfReader(\"Profile.pdf\") #linkedin path\n",
        "linkedin = \"\"\n",
        "for page in reader.pages:\n",
        "    text = page.extract_text()\n",
        "    if text:\n",
        "        linkedin += text\n",
        "\n",
        "with open(\"summary.txt\", \"r\", encoding=\"utf-8\") as f:  # summary path\n",
        "    summary = f.read()\n",
        "\n",
        "name = \" \" #your name"
      ]
    },
    {
      "cell_type": "markdown",
      "source": [
        "### 6. System Prompt for the Chatbot\n",
        "This defines how the agent should behave."
      ],
      "metadata": {
        "id": "3AS7tHKl3rfQ"
      }
    },
    {
      "cell_type": "code",
      "execution_count": null,
      "metadata": {
        "id": "nr3YIq71s5WR"
      },
      "outputs": [],
      "source": [
        "system_prompt = f\"You are acting as {name}. You are answering questions on {name}'s website, \\\n",
        "particularly questions related to {name}'s career, background, skills and experience. \\\n",
        "Your responsibility is to represent {name} for interactions on the website as faithfully as possible. \\\n",
        "You are given a summary of {name}'s background and LinkedIn profile which you can use to answer questions. \\\n",
        "Be professional and engaging, as if talking to a potential client or future employer who came across the website. \\\n",
        "If you don't know the answer to any question, use your record_unknown_question tool to record the question that you couldn't answer, even if it's about something trivial or unrelated to career. \\\n",
        "If the user is engaging in discussion, try to steer them towards getting in touch via email; ask for their email and record it using your record_user_details tool. \"\n",
        "\n",
        "system_prompt += f\"\\n\\n## Summary:\\n{summary}\\n\\n## LinkedIn Profile:\\n{linkedin}\\n\\n\"\n",
        "system_prompt += f\"With this context, please chat with the user, always staying in character as {name}.\"\n"
      ]
    },
    {
      "cell_type": "markdown",
      "source": [
        "### 7. Chat Function (with Tool Support)\n",
        "This function powers the chatbot and handles responses + tool cal"
      ],
      "metadata": {
        "id": "RXyWG8ft4DiP"
      }
    },
    {
      "cell_type": "code",
      "execution_count": null,
      "metadata": {
        "id": "PYLItfMds5WR"
      },
      "outputs": [],
      "source": [
        "def chat(message, history):\n",
        "    messages = [{\"role\": \"system\", \"content\": system_prompt}] + history + [{\"role\": \"user\", \"content\": message}]\n",
        "    done = False\n",
        "    while not done:\n",
        "\n",
        "        # This is the call to the LLM - see that we pass in the tools json\n",
        "\n",
        "        response = gemini.chat.completions.create(model=model_name, messages=messages,tools=tools)\n",
        "\n",
        "        finish_reason = response.choices[0].finish_reason\n",
        "\n",
        "        # If the LLM wants to call a tool, we do that!\n",
        "\n",
        "        if finish_reason==\"tool_calls\":\n",
        "            message = response.choices[0].message\n",
        "            tool_calls = message.tool_calls\n",
        "            results = handle_tool_calls(tool_calls)\n",
        "            messages.append(message)\n",
        "            messages.extend(results)\n",
        "        else:\n",
        "            done = True\n",
        "    return response.choices[0].message.content"
      ]
    },
    {
      "cell_type": "markdown",
      "source": [
        "### 9. Launch with Gradio UI"
      ],
      "metadata": {
        "id": "Iqv2G3184JIs"
      }
    },
    {
      "cell_type": "code",
      "execution_count": null,
      "metadata": {
        "id": "-ex6dJeks5WR"
      },
      "outputs": [],
      "source": [
        "gr.ChatInterface(chat, type=\"messages\").launch()"
      ]
    },
    {
      "cell_type": "markdown",
      "source": [
        "### Conclusion\n",
        "You've built a custom personal chatbot that:\n",
        "\n",
        "- Reads your resume\n",
        "- Answers career-related questions\n",
        "- Pushes notifications to your phone\n",
        "- Records user interest and unknown queries using OpenAI tool calling"
      ],
      "metadata": {
        "id": "o6Ynjlxi4Ny3"
      }
    }
  ],
  "metadata": {
    "kernelspec": {
      "display_name": ".venv",
      "language": "python",
      "name": "python3"
    },
    "language_info": {
      "codemirror_mode": {
        "name": "ipython",
        "version": 3
      },
      "file_extension": ".py",
      "mimetype": "text/x-python",
      "name": "python",
      "nbconvert_exporter": "python",
      "pygments_lexer": "ipython3",
      "version": "3.12.9"
    },
    "colab": {
      "provenance": []
    }
  },
  "nbformat": 4,
  "nbformat_minor": 0
}